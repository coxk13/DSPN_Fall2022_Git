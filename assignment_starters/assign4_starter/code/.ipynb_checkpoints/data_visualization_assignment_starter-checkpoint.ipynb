{
 "cells": [
  {
   "cell_type": "markdown",
   "metadata": {},
   "source": [
    "# Preamble. MRIQC output visualization\n",
    "\n",
    "## Full details\n",
    "\n",
    "* MRIQC is a standardized MRI image quality assessment tool\n",
    "    * <a href=\"https://mriqc.readthedocs.io/en/latest/about.html\">Documentation</a>\n",
    "    * <a href=\"https://journals.plos.org/plosone/article?id=10.1371/journal.pone.0184661\">Paper</a>\n",
    "\n",
    "## Group-Level Reports\n",
    "\n",
    "<img src='img/mriqc_report.png' width='400'>"
   ]
  },
  {
   "cell_type": "markdown",
   "metadata": {},
   "source": [
    "## Critical Image Quality Metrics (IQMs) for BOLD act & conn analyses:\n",
    "\n",
    "* Temporal signal-to-noise ratio (tSNR):\n",
    "    * $tSNR$ $=$ $\\frac{\\langle S \\rangle_t}{\\sigma_t}$\n",
    "    * Ratio of the mean BOLD signal (across time) and temporal standard deviation.\n",
    "    * Higher numbers = Better.\n",
    "* Framewise Displacement (FD):\n",
    "    * $FD_𝑡$ $=$ $|\\Delta d_x,t|$ + $|\\Delta d_y,t|$ + $|\\Delta d_z,t|$ + $|\\Delta \\alpha_t|$ + $|\\Delta \\beta_t|$ + $|\\Delta \\gamma_t|$ \n",
    "    * Instantaneous head motion.\n",
    "    * Higher numbers = Worse.    \n",
    "* Effect of low tSNR and high FD:\n",
    "    * Harder to detect task activations.\n",
    "    * Introduce spurious changes in functional connectivity.\n",
    "\n",
    "## Assignment 4: \n",
    "\n",
    "1. Read in an MRIQC group report.\n",
    "    * Already completed this step in the starter code. \n",
    "    * Dataset contains 4 task fMRI runs and 1 resting-state fMRI run / subject.\n",
    "2. Make a boxplot of tSNR.\n",
    "3. Add a geom_dotplot layer to turn #2 into a \"scatterbox\" plot.\n",
    "4. Create 2 grouped tSNR scatterbox plots (i.e., versions of #3) to see if tSNR varies as a function of task (resting-state vs. task fMRI runs).\n",
    "\n",
    "### BONUS\n",
    "5. Plot the relationship between tSNR and mean FD, grouped by task.\n",
    "6. Reproduce #4 with pid labels.\n",
    "    1. Which 2 participants probably have terrible resting-state data?"
   ]
  },
  {
   "cell_type": "markdown",
   "metadata": {},
   "source": [
    "## Code chunk for item #1:\n",
    "* Load tidyverse\n",
    "* Set up some themes / palettes you can use if you want\n",
    "* Load data & mutate vars needed for assignment"
   ]
  },
  {
   "cell_type": "code",
   "execution_count": 5,
   "metadata": {},
   "outputs": [
    {
     "name": "stderr",
     "output_type": "stream",
     "text": [
      "\n",
      "\u001b[36m──\u001b[39m \u001b[1mColumn specification\u001b[22m \u001b[36m──────────────────────────────────────────────────────────────────────────────────────────────────────────────────────────────\u001b[39m\n",
      "cols(\n",
      "  .default = col_double(),\n",
      "  bids_name = \u001b[31mcol_character()\u001b[39m\n",
      ")\n",
      "\u001b[36mℹ\u001b[39m Use `spec()` for the full column specifications.\n",
      "\n"
     ]
    }
   ],
   "source": [
    "### load tidyverse\n",
    "library(tidyverse)\n",
    "\n",
    "### Custom palette & theme\n",
    "# Many palettes available online, can customize\n",
    "# these are from: https://colorbrewer2.org/#type=qualitative&scheme=Set1&n=9\n",
    "dspn_palette <- c(\"#377eb8\",\"#e41a1c\",\"#4daf4a\",\"#984ea3\",\"#ff7f00\")\n",
    "# This is the basic function I use for all the ggplots I create. \n",
    "# Modified from this black themed ggplot function: https://gist.github.com/jslefche/eff85ef06b4705e6efbc\n",
    "dspn_theme = function(base_size = 24, base_family = \"\") {\n",
    "  \n",
    "  theme_grey(base_size = base_size, base_family = base_family) %+replace%\n",
    "    \n",
    "    theme(\n",
    "      # Specify axis options\n",
    "      axis.line = element_blank(),  \n",
    "      axis.text.x = element_text(size = base_size*0.8, color = \"black\", lineheight = 0.9),  \n",
    "      axis.text.y = element_text(size = base_size*0.8, color = \"black\", lineheight = 0.9),  \n",
    "      axis.ticks = element_line(color = \"black\", size  =  0.2),\n",
    "      axis.title.x = element_text(size = base_size, color = \"black\", margin = margin(10, 0, 0, 0)),\n",
    "      axis.title.y = element_text(size = base_size, color = \"black\", angle = 90, margin = margin(0, 10, 0, 0)),  \n",
    "      axis.ticks.length = unit(0.3, \"lines\"),   \n",
    "      # Specify legend options\n",
    "      legend.background = element_rect(color = NA, fill = \"#ffffff\"),  \n",
    "      legend.key = element_rect(color = \"black\",  fill = \"#ffffff\"),  \n",
    "      legend.key.size = unit(2, \"lines\"),  \n",
    "      legend.key.height = NULL,  \n",
    "      legend.key.width = NULL,      \n",
    "      legend.text = element_text(size = base_size*0.8, color = \"black\"),  \n",
    "      legend.title = element_text(size = base_size*0.8, face = \"bold\", hjust = 0, color = \"black\"),\n",
    "      legend.position = \"right\",  \n",
    "      legend.text.align = NULL,  \n",
    "      legend.title.align = NULL,  \n",
    "      legend.direction = \"vertical\",  \n",
    "      legend.box = NULL, \n",
    "      # Specify panel options\n",
    "      panel.background = element_rect(fill = \"#ffffff\", color  =  NA),  \n",
    "      panel.border = element_rect(fill = NA, color = \"black\"),  \n",
    "      panel.grid.major = element_line(color = \"#ffffff\"),  \n",
    "      panel.grid.minor = element_line(color = \"#ffffff\"),  \n",
    "      panel.spacing = unit(2, \"lines\"),\n",
    "      # Specify facetting options\n",
    "      strip.background = element_rect(fill = \"grey30\", color = \"grey10\"),  \n",
    "      strip.text.x = element_text(size = base_size*0.8, color = \"black\"),  \n",
    "      strip.text.y = element_text(size = base_size*0.8, color = \"black\",angle = -90),  \n",
    "      # Specify plot options\n",
    "      plot.background = element_rect(color = \"#ffffff\", fill = \"#ffffff\"),  \n",
    "      plot.title = element_text(size = base_size*1.2, color = \"black\"),  \n",
    "      plot.margin = unit(rep(1, 4), \"lines\")\n",
    "    ) \n",
    "}\n",
    "\n",
    "### Loading data + mutating to create task and timing vars\n",
    "\n",
    "# loading the data\n",
    "file <- '../data/group_bold.txt'\n",
    "df <- read_tsv(file)\n",
    "\n",
    "# setting up new vars\n",
    "# Coding some new variables\n",
    "# 1. Participant ID\n",
    "# 2. Task (rest, or doing a task)\n",
    "# 3. Timing (first two runs = early, second two runs+rest = late)\n",
    "df <- df %>% \n",
    "    mutate(pid = str_sub(bids_name,1,3),\n",
    "          task = ifelse(grepl('run',bids_name),'task','rest'))"
   ]
  },
  {
   "cell_type": "markdown",
   "metadata": {},
   "source": [
    "## Code chunk for item #2:\n",
    "* Make a 'boxplot' of the tSNR variable"
   ]
  },
  {
   "cell_type": "code",
   "execution_count": null,
   "metadata": {},
   "outputs": [],
   "source": []
  },
  {
   "cell_type": "markdown",
   "metadata": {},
   "source": [
    "## Code chunk for item #3:\n",
    "* add a 'dotplot' layer to previous plot code to create a \"scatterbox\" plot of tSNR"
   ]
  },
  {
   "cell_type": "code",
   "execution_count": null,
   "metadata": {},
   "outputs": [],
   "source": []
  },
  {
   "cell_type": "markdown",
   "metadata": {},
   "source": [
    "## Code chunk for item #4:\n",
    "* take the scatterbox plot you created, and group it by task (i.e., rest versus task fMRI)"
   ]
  },
  {
   "cell_type": "code",
   "execution_count": null,
   "metadata": {},
   "outputs": [],
   "source": []
  },
  {
   "cell_type": "markdown",
   "metadata": {},
   "source": [
    "## Code chunk for item #5:\n",
    "\n",
    "* Plot of the association between tSNR and FD, grouped by TASK"
   ]
  },
  {
   "cell_type": "code",
   "execution_count": null,
   "metadata": {},
   "outputs": [],
   "source": []
  },
  {
   "cell_type": "markdown",
   "metadata": {},
   "source": [
    "## Code chunk for item #6:\n",
    "\n",
    "* Create same plot as #5, but use participant ID labels to figure out who we may need to exclude from our analysis."
   ]
  },
  {
   "cell_type": "code",
   "execution_count": null,
   "metadata": {},
   "outputs": [],
   "source": []
  }
 ],
 "metadata": {
  "kernelspec": {
   "display_name": "R",
   "language": "R",
   "name": "ir"
  },
  "language_info": {
   "codemirror_mode": "r",
   "file_extension": ".r",
   "mimetype": "text/x-r-source",
   "name": "R",
   "pygments_lexer": "r",
   "version": "4.0.4"
  }
 },
 "nbformat": 4,
 "nbformat_minor": 4
}
