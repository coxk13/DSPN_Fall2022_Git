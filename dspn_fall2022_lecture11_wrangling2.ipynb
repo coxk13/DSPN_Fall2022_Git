{
 "cells": [
  {
   "cell_type": "markdown",
   "metadata": {},
   "source": [
    "# Data Science in Psychology & Neuroscience (DSPN): \n",
    "\n",
    "## Lecture 9. Data Wrangling (part 2)\n",
    "\n",
    "### Date: September 29, 2022\n",
    "\n",
    "### To-Dos From Last Class:\n",
    "\n",
    "* Download data for today's wrangling session #1 dataset from <a href=\"https://github.com/hogeveen-lab/DSPN_Fall2022_Git/tree/master/misc_exercises/imitation_inhibition_paradigm\">Github</a>\n",
    "\n",
    "### Today:\n",
    "\n",
    "* Data wrangling in Pandas (stealing heavily from this <a href=\"https://pandas.pydata.org/Pandas_Cheat_Sheet.pdf\">Cheatsheet</a>)\n",
    "    * Last part of last class: Combining data frames\n",
    "* Wrangle some real data\n",
    "\n",
    "### Homework\n",
    "\n",
    "* Download <a href=\"https://github.com/hogeveen-lab/DSPN_Fall2022_Git/tree/master/assignment_starters/assign3_starter\">Assignment #3 starter kit</a>"
   ]
  },
  {
   "cell_type": "markdown",
   "metadata": {},
   "source": [
    "# Data wrangling in Pandas\n",
    "\n",
    "## (finishing from last class) 5. Combining Data Sets \n",
    "\n",
    "<img src=\"img/combining_data.png\" width=\"600\">"
   ]
  },
  {
   "cell_type": "code",
   "execution_count": 12,
   "metadata": {},
   "outputs": [
    {
     "name": "stdout",
     "output_type": "stream",
     "text": [
      "Merge LEFT (right --> left; lose unique rows from the RIGHT df)\n"
     ]
    },
    {
     "data": {
      "text/html": [
       "<div>\n",
       "<style scoped>\n",
       "    .dataframe tbody tr th:only-of-type {\n",
       "        vertical-align: middle;\n",
       "    }\n",
       "\n",
       "    .dataframe tbody tr th {\n",
       "        vertical-align: top;\n",
       "    }\n",
       "\n",
       "    .dataframe thead th {\n",
       "        text-align: right;\n",
       "    }\n",
       "</style>\n",
       "<table border=\"1\" class=\"dataframe\">\n",
       "  <thead>\n",
       "    <tr style=\"text-align: right;\">\n",
       "      <th></th>\n",
       "      <th>pid</th>\n",
       "      <th>var1</th>\n",
       "      <th>var2</th>\n",
       "    </tr>\n",
       "  </thead>\n",
       "  <tbody>\n",
       "    <tr>\n",
       "      <th>0</th>\n",
       "      <td>P1</td>\n",
       "      <td>65</td>\n",
       "      <td>41.0</td>\n",
       "    </tr>\n",
       "    <tr>\n",
       "      <th>1</th>\n",
       "      <td>P2</td>\n",
       "      <td>54</td>\n",
       "      <td>47.0</td>\n",
       "    </tr>\n",
       "    <tr>\n",
       "      <th>2</th>\n",
       "      <td>P3</td>\n",
       "      <td>64</td>\n",
       "      <td>NaN</td>\n",
       "    </tr>\n",
       "  </tbody>\n",
       "</table>\n",
       "</div>"
      ],
      "text/plain": [
       "  pid  var1  var2\n",
       "0  P1    65  41.0\n",
       "1  P2    54  47.0\n",
       "2  P3    64   NaN"
      ]
     },
     "metadata": {},
     "output_type": "display_data"
    },
    {
     "name": "stdout",
     "output_type": "stream",
     "text": [
      "Merge RIGHT (left --> right; lose unique rows from the LEFT df)\n"
     ]
    },
    {
     "data": {
      "text/html": [
       "<div>\n",
       "<style scoped>\n",
       "    .dataframe tbody tr th:only-of-type {\n",
       "        vertical-align: middle;\n",
       "    }\n",
       "\n",
       "    .dataframe tbody tr th {\n",
       "        vertical-align: top;\n",
       "    }\n",
       "\n",
       "    .dataframe thead th {\n",
       "        text-align: right;\n",
       "    }\n",
       "</style>\n",
       "<table border=\"1\" class=\"dataframe\">\n",
       "  <thead>\n",
       "    <tr style=\"text-align: right;\">\n",
       "      <th></th>\n",
       "      <th>pid</th>\n",
       "      <th>var1</th>\n",
       "      <th>var2</th>\n",
       "    </tr>\n",
       "  </thead>\n",
       "  <tbody>\n",
       "    <tr>\n",
       "      <th>0</th>\n",
       "      <td>P1</td>\n",
       "      <td>65.0</td>\n",
       "      <td>41</td>\n",
       "    </tr>\n",
       "    <tr>\n",
       "      <th>1</th>\n",
       "      <td>P2</td>\n",
       "      <td>54.0</td>\n",
       "      <td>47</td>\n",
       "    </tr>\n",
       "    <tr>\n",
       "      <th>2</th>\n",
       "      <td>P4</td>\n",
       "      <td>NaN</td>\n",
       "      <td>48</td>\n",
       "    </tr>\n",
       "  </tbody>\n",
       "</table>\n",
       "</div>"
      ],
      "text/plain": [
       "  pid  var1  var2\n",
       "0  P1  65.0    41\n",
       "1  P2  54.0    47\n",
       "2  P4   NaN    48"
      ]
     },
     "metadata": {},
     "output_type": "display_data"
    },
    {
     "name": "stdout",
     "output_type": "stream",
     "text": [
      "Merge INNER (lose unique data from BOTH dfs)\n"
     ]
    },
    {
     "data": {
      "text/html": [
       "<div>\n",
       "<style scoped>\n",
       "    .dataframe tbody tr th:only-of-type {\n",
       "        vertical-align: middle;\n",
       "    }\n",
       "\n",
       "    .dataframe tbody tr th {\n",
       "        vertical-align: top;\n",
       "    }\n",
       "\n",
       "    .dataframe thead th {\n",
       "        text-align: right;\n",
       "    }\n",
       "</style>\n",
       "<table border=\"1\" class=\"dataframe\">\n",
       "  <thead>\n",
       "    <tr style=\"text-align: right;\">\n",
       "      <th></th>\n",
       "      <th>pid</th>\n",
       "      <th>var1</th>\n",
       "      <th>var2</th>\n",
       "    </tr>\n",
       "  </thead>\n",
       "  <tbody>\n",
       "    <tr>\n",
       "      <th>0</th>\n",
       "      <td>P1</td>\n",
       "      <td>65</td>\n",
       "      <td>41</td>\n",
       "    </tr>\n",
       "    <tr>\n",
       "      <th>1</th>\n",
       "      <td>P2</td>\n",
       "      <td>54</td>\n",
       "      <td>47</td>\n",
       "    </tr>\n",
       "  </tbody>\n",
       "</table>\n",
       "</div>"
      ],
      "text/plain": [
       "  pid  var1  var2\n",
       "0  P1    65    41\n",
       "1  P2    54    47"
      ]
     },
     "metadata": {},
     "output_type": "display_data"
    },
    {
     "name": "stdout",
     "output_type": "stream",
     "text": [
      "Merge OUTER (retain ALL the data)\n"
     ]
    },
    {
     "data": {
      "text/html": [
       "<div>\n",
       "<style scoped>\n",
       "    .dataframe tbody tr th:only-of-type {\n",
       "        vertical-align: middle;\n",
       "    }\n",
       "\n",
       "    .dataframe tbody tr th {\n",
       "        vertical-align: top;\n",
       "    }\n",
       "\n",
       "    .dataframe thead th {\n",
       "        text-align: right;\n",
       "    }\n",
       "</style>\n",
       "<table border=\"1\" class=\"dataframe\">\n",
       "  <thead>\n",
       "    <tr style=\"text-align: right;\">\n",
       "      <th></th>\n",
       "      <th>pid</th>\n",
       "      <th>var1</th>\n",
       "      <th>var2</th>\n",
       "    </tr>\n",
       "  </thead>\n",
       "  <tbody>\n",
       "    <tr>\n",
       "      <th>0</th>\n",
       "      <td>P1</td>\n",
       "      <td>65.0</td>\n",
       "      <td>41.0</td>\n",
       "    </tr>\n",
       "    <tr>\n",
       "      <th>1</th>\n",
       "      <td>P2</td>\n",
       "      <td>54.0</td>\n",
       "      <td>47.0</td>\n",
       "    </tr>\n",
       "    <tr>\n",
       "      <th>2</th>\n",
       "      <td>P3</td>\n",
       "      <td>64.0</td>\n",
       "      <td>NaN</td>\n",
       "    </tr>\n",
       "    <tr>\n",
       "      <th>3</th>\n",
       "      <td>P4</td>\n",
       "      <td>NaN</td>\n",
       "      <td>48.0</td>\n",
       "    </tr>\n",
       "  </tbody>\n",
       "</table>\n",
       "</div>"
      ],
      "text/plain": [
       "  pid  var1  var2\n",
       "0  P1  65.0  41.0\n",
       "1  P2  54.0  47.0\n",
       "2  P3  64.0   NaN\n",
       "3  P4   NaN  48.0"
      ]
     },
     "metadata": {},
     "output_type": "display_data"
    }
   ],
   "source": [
    "import pandas as pd\n",
    "import numpy as np\n",
    "\n",
    "# function to generate random integers\n",
    "def random_integer(x,n):\n",
    "    for i in range(n):\n",
    "        x.append(np.random.randint(25,75))\n",
    "    return x\n",
    "\n",
    "# running the function and check the output\n",
    "x = []\n",
    "random_integer(x,6)\n",
    "# print(x)\n",
    "\n",
    "# putting together some example data frames\n",
    "df1 = pd.DataFrame({'pid' : ['P1','P2','P3'],\n",
    "                   'var1' : [x[0],x[1],x[2]]})\n",
    "# display(df1)\n",
    "df2 = pd.DataFrame({'pid' : ['P1','P2','P4'],\n",
    "                   'var2' : [x[3],x[4],x[5]]})\n",
    "# display(df2)\n",
    "\n",
    "# Standard merge approach #1\n",
    "print('Merge LEFT (right --> left; lose unique rows from the RIGHT df)')\n",
    "merge_left = pd.merge(df1,df2,on='pid',how='left')\n",
    "display(merge_left)\n",
    "\n",
    "# Standard merge approach #2\n",
    "print('Merge RIGHT (left --> right; lose unique rows from the LEFT df)')\n",
    "merge_right = pd.merge(df1,df2,on='pid',how='right')\n",
    "display(merge_right)\n",
    "\n",
    "# Standard merge approach #3\n",
    "print('Merge INNER (lose unique data from BOTH dfs)')\n",
    "merge_inner = pd.merge(df1,df2,on='pid',how='inner')\n",
    "display(merge_inner)\n",
    "\n",
    "# Standard merge approach #4\n",
    "print('Merge OUTER (retain ALL the data)')\n",
    "merge_outer = pd.merge(df1,df2,on='pid',how='outer')\n",
    "display(merge_outer)"
   ]
  },
  {
   "cell_type": "markdown",
   "metadata": {},
   "source": [
    "# Wrangle some real data\n",
    "\n",
    "<img src=\"img/imit_inhib_fileorg.png\" width=500>"
   ]
  },
  {
   "cell_type": "markdown",
   "metadata": {},
   "source": [
    "## Breaking into 8 code chunks\n",
    "\n",
    "## 1. Import packages"
   ]
  },
  {
   "cell_type": "code",
   "execution_count": 14,
   "metadata": {},
   "outputs": [],
   "source": [
    "import numpy as np\n",
    "import pandas as pd\n",
    "pd.options.mode.chained_assignment = None # to avoid \"settingwithcopy\" warning, not required\n",
    "import os\n",
    "from glob import glob"
   ]
  },
  {
   "cell_type": "markdown",
   "metadata": {},
   "source": [
    "## 2. Setting paths to the first level data"
   ]
  },
  {
   "cell_type": "code",
   "execution_count": 57,
   "metadata": {},
   "outputs": [],
   "source": [
    "base_dir = os.getcwd()\n",
    "# base_dir = '<hard coded path to local parent directory on your computer if you don't have the data and code adjacent to each other>'\n",
    "P_file_pattern = 'P*.txt'\n",
    "# P_file_pattern = '/P*.txt'  # option for windows folks where os.path.join assumed backward slashes that GLOB didn't like\n",
    "first_dir = os.path.join(base_dir,'misc_exercises/imitation_inhibition_paradigm/data/first')\n",
    "# first_dir = base_dir + '/first' # option for windows folks where os.path.join assumed backward slashes that GLOB didn't like\n",
    "second_dir = os.path.join(base_dir,'misc_exercises/imitation_inhibition_paradigm/data/second')\n",
    "# second_dir = base_dir + '/second' # option for windows folks where os.path.join assumed backward slashes that GLOB didn't like\n",
    "questionaire_filename = os.path.join(second_dir,'ait_questionnaires.csv')\n",
    "# questionaire_filename = second_dir + '/ait_questionnaires.csv'  # option for windows folks where os.path.join assumed backward slashes that GLOB didn't like\n",
    "\n",
    "# use GLOB to find ALL participant data files and put together a list\n",
    "all_files = glob(os.path.join(first_dir,P_file_pattern))\n",
    "# all_files = glob(first_dir + P_file_pattern)  # option for windows folks where os.path.join assumed backward slashes that GLOB didn't like\n",
    "# print(all_files) # should show a list of ALL the first-level P*.txt files, if not path must be wonky"
   ]
  },
  {
   "cell_type": "markdown",
   "metadata": {},
   "source": [
    "## 3. Load a test subject to make sense of things"
   ]
  },
  {
   "cell_type": "code",
   "execution_count": 56,
   "metadata": {},
   "outputs": [
    {
     "name": "stdout",
     "output_type": "stream",
     "text": [
      "How many rows in initial loaded data frame: 521\n",
      "How many rows in initial loaded data frame: 101\n"
     ]
    }
   ],
   "source": [
    "# reading in the data\n",
    "sample_df = pd.read_csv(all_files[0],skiprows=5,sep='\\t') # Note: looking at file we know that first 5 rows aren't needed and it is tab separated\n",
    "print('How many rows in initial loaded data frame:',len(sample_df))\n",
    "\n",
    "# filter the data down to just the experimental block\n",
    "sample_df = sample_df[sample_df['Name.1']=='AI_Block']\n",
    "\n",
    "# filter down to just the key releases\n",
    "sample_df_releases = sample_df[sample_df['Released']=='Released']\n",
    "print('How many rows in initial loaded data frame:',len(sample_df_releases))\n",
    "\n",
    "# Final note: If row numbers differ from my output, check what file all_files[0] is. \n",
    "# Mine was P8, doesn't matter though we're going to loop through them all eventually!"
   ]
  },
  {
   "cell_type": "code",
   "execution_count": null,
   "metadata": {},
   "outputs": [],
   "source": []
  },
  {
   "cell_type": "markdown",
   "metadata": {},
   "source": [
    "## 4. Iterate through to load the first level data\n",
    "###    * Concatenate all together to create one data frame to rule them all"
   ]
  },
  {
   "cell_type": "code",
   "execution_count": null,
   "metadata": {},
   "outputs": [],
   "source": []
  },
  {
   "cell_type": "markdown",
   "metadata": {},
   "source": [
    "## 5. Merge with questionnaire data"
   ]
  },
  {
   "cell_type": "code",
   "execution_count": null,
   "metadata": {},
   "outputs": [],
   "source": []
  },
  {
   "cell_type": "markdown",
   "metadata": {},
   "source": [
    "## 6. Write to trial-level allsubjects csv"
   ]
  },
  {
   "cell_type": "code",
   "execution_count": null,
   "metadata": {},
   "outputs": [],
   "source": []
  },
  {
   "cell_type": "markdown",
   "metadata": {},
   "source": [
    "#### Pick up next class..\n",
    "7. Compute summary measures\n",
    "8. Save to summary allsubjects csv"
   ]
  },
  {
   "cell_type": "code",
   "execution_count": null,
   "metadata": {},
   "outputs": [],
   "source": []
  }
 ],
 "metadata": {
  "kernelspec": {
   "display_name": "Python 3 (ipykernel)",
   "language": "python",
   "name": "python3"
  },
  "language_info": {
   "codemirror_mode": {
    "name": "ipython",
    "version": 3
   },
   "file_extension": ".py",
   "mimetype": "text/x-python",
   "name": "python",
   "nbconvert_exporter": "python",
   "pygments_lexer": "ipython3",
   "version": "3.9.12"
  }
 },
 "nbformat": 4,
 "nbformat_minor": 4
}
