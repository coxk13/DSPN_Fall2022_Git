{
 "cells": [
  {
   "cell_type": "markdown",
   "metadata": {},
   "source": [
    "# Data Science in Psychology & Neuroscience (DSPN): \n",
    "\n",
    "## Lecture 7. Conditionals Part 2\n",
    "\n",
    "### Date: September 13, 2022\n",
    "\n",
    "### To-Dos From Last Class:\n",
    "\n",
    "* Practice practice practice (<a href=\"https://www.w3resource.com/python-exercises/python-conditional-statements-and-loop-exercises.php\">e.g.</a>)\n",
    "\n",
    "### Today:\n",
    "\n",
    "* More conditionals exercises in Python\n",
    "\n",
    "\n",
    "### Homework\n",
    "\n",
    "* Read short primer on the \"integrate and fire\" neuron\n",
    "* Download Assignment #2 starter kit from <a href=\"https://github.com/hogeveen-lab/DSPN_Fall2020_git\">github</a>\n"
   ]
  },
  {
   "cell_type": "markdown",
   "metadata": {},
   "source": [
    "# Reminder: Properties of conditionals\n",
    "\n",
    "* All conditionals start with an if, can have an optional and variable number of elif’s and an optional else statement\n",
    "* Conditionals can take any expression that can be evaluated as True or False.\n",
    "* At most one component (if / elif / else) of a conditional will run.\n",
    "* The order of conditional blocks is always if then elif(s) then else\n",
    "* Code is only ever executed if the condition is met"
   ]
  },
  {
   "cell_type": "markdown",
   "metadata": {},
   "source": [
    "# warmup: Returning to \"IN\" and \"NOT IN\"\n",
    "\n",
    "## make a random list of 5 numbers between 1 and 10, set x = 2\n",
    "## use conditionals to determine if x is in the list"
   ]
  },
  {
   "cell_type": "code",
   "execution_count": 40,
   "metadata": {},
   "outputs": [
    {
     "name": "stdout",
     "output_type": "stream",
     "text": [
      "[3 4 8 5 4]\n",
      "Not Found!\n"
     ]
    }
   ],
   "source": [
    "from numpy import random as npr\n",
    "lst = npr.randint(1,11,5)\n",
    "x = 2\n",
    "print(lst)\n",
    "\n",
    "# if x in lst:\n",
    "#     print('Found!')\n",
    "# else:\n",
    "#     print('Not Found!')\n",
    "\n",
    "if x not in lst:\n",
    "    print('Not Found!')\n",
    "else:\n",
    "    print('Found!')"
   ]
  },
  {
   "cell_type": "markdown",
   "metadata": {},
   "source": [
    "# Exercise 1: \n",
    "## Create two random 10-number integer lists from 0-100. \n",
    "## For each pair of integers, if they are BOTH OVER or UNDER 50 return the number 1, otherwise return 0"
   ]
  },
  {
   "cell_type": "code",
   "execution_count": 44,
   "metadata": {},
   "outputs": [
    {
     "name": "stdout",
     "output_type": "stream",
     "text": [
      "1: [26 90  8 44  1 14 18  4 25 48] 2: [15 42 15 64 35 49 94 10 92 76]\n",
      "answer list: [1, 0, 1, 0, 1, 1, 0, 1, 0, 0]\n"
     ]
    }
   ],
   "source": [
    "minInt = 0\n",
    "maxInt = 100\n",
    "numInt = 10\n",
    "lst1 = npr.randint(minInt,maxInt,numInt)\n",
    "lst2 = npr.randint(minInt,maxInt,numInt)\n",
    "cutoff = 50\n",
    "answer = []\n",
    "\n",
    "print('1:',lst1,'2:',lst2)\n",
    "\n",
    "for i in range(0,len(lst1)):\n",
    "    if lst1[i] > cutoff and lst2[i] > cutoff:\n",
    "        answer.append(1)\n",
    "    elif  lst1[i] < cutoff and lst2[i] < cutoff:\n",
    "        answer.append(1)\n",
    "    else:\n",
    "        answer.append(0)\n",
    "\n",
    "print('answer list:',answer)"
   ]
  },
  {
   "cell_type": "markdown",
   "metadata": {},
   "source": [
    "# Exercise 2:\n",
    "\n",
    "## Create a loop that skips all odd numbers and terminates at a user-defined value"
   ]
  },
  {
   "cell_type": "code",
   "execution_count": 52,
   "metadata": {},
   "outputs": [
    {
     "name": "stdin",
     "output_type": "stream",
     "text": [
      " 12\n"
     ]
    },
    {
     "name": "stdout",
     "output_type": "stream",
     "text": [
      "0\n",
      "2\n",
      "4\n",
      "6\n",
      "8\n",
      "10\n"
     ]
    }
   ],
   "source": [
    "n = int(input())\n",
    "\n",
    "for i in range(n):\n",
    "    if i % 2 != 0:\n",
    "        continue\n",
    "    else:\n",
    "        print(i)"
   ]
  },
  {
   "cell_type": "markdown",
   "metadata": {},
   "source": [
    "## 2b: make a loop that terminates as soon as the value is >= user input divided by 2"
   ]
  },
  {
   "cell_type": "code",
   "execution_count": 56,
   "metadata": {},
   "outputs": [
    {
     "name": "stdin",
     "output_type": "stream",
     "text": [
      " 16\n"
     ]
    },
    {
     "name": "stdout",
     "output_type": "stream",
     "text": [
      "0\n",
      "2\n",
      "4\n",
      "6\n"
     ]
    }
   ],
   "source": [
    "n = int(input())\n",
    "\n",
    "for i in range(n):\n",
    "    # conditional expression for 2b\n",
    "    if i >= n / 2:\n",
    "        break\n",
    "    # conditional expression for 2a\n",
    "    if i % 2 != 0:\n",
    "        continue\n",
    "    else:\n",
    "        print(i)"
   ]
  },
  {
   "cell_type": "markdown",
   "metadata": {},
   "source": [
    "# Exercise 3: \n",
    "## Write a program that lets kids 3-5 feet tall (inclusive) onto a roller coaster."
   ]
  },
  {
   "cell_type": "code",
   "execution_count": 61,
   "metadata": {},
   "outputs": [
    {
     "name": "stdin",
     "output_type": "stream",
     "text": [
      " 6\n"
     ]
    },
    {
     "name": "stdout",
     "output_type": "stream",
     "text": [
      " Go home!\n"
     ]
    }
   ],
   "source": [
    "height = float(input())\n",
    "minHeight = 3\n",
    "maxHeight = 5\n",
    "\n",
    "if height >= minHeight and height <= maxHeight:\n",
    "    print('enjoy the ride!')\n",
    "else:\n",
    "    print(' Go home!')"
   ]
  },
  {
   "cell_type": "markdown",
   "metadata": {},
   "source": [
    "# Exercise 4:\n",
    "## Write a program that compares three random integers\n",
    "## Specifically, determine if one integer is greater than the other two integers."
   ]
  },
  {
   "cell_type": "code",
   "execution_count": 72,
   "metadata": {},
   "outputs": [
    {
     "name": "stdout",
     "output_type": "stream",
     "text": [
      "A: 2 B: 1 C: 2\n",
      "Two or more integers equal 2\n"
     ]
    }
   ],
   "source": [
    "lst = npr.randint(1,10,3)\n",
    "print('A:',lst[0],'B:',lst[1],'C:',lst[2])\n",
    "\n",
    "if lst[0] > lst[1] and lst[0] > lst[2]:\n",
    "    print(lst[0],'is the greatest integer!')\n",
    "elif lst[1] > lst[0] and lst[1] > lst[2]:\n",
    "    print(lst[1],'is the greatest integer!')\n",
    "elif lst[2] > lst[0] and lst[2] > lst[1]:\n",
    "    print(lst[2],'is the greatest integer!')\n",
    "else:\n",
    "    print('Two or more integers equal',max(lst))"
   ]
  },
  {
   "cell_type": "code",
   "execution_count": null,
   "metadata": {},
   "outputs": [],
   "source": []
  }
 ],
 "metadata": {
  "kernelspec": {
   "display_name": "Python 3",
   "language": "python",
   "name": "python3"
  },
  "language_info": {
   "codemirror_mode": {
    "name": "ipython",
    "version": 3
   },
   "file_extension": ".py",
   "mimetype": "text/x-python",
   "name": "python",
   "nbconvert_exporter": "python",
   "pygments_lexer": "ipython3",
   "version": "3.8.8"
  }
 },
 "nbformat": 4,
 "nbformat_minor": 4
}
