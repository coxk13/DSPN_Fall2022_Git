{
 "cells": [
  {
   "cell_type": "markdown",
   "metadata": {},
   "source": [
    "# Data Science in Psychology & Neuroscience (DSPN): \n",
    "\n",
    "## Lecture 10. Data Wrangling (part 1)\n",
    "\n",
    "### Date: September 27, 2022\n",
    "\n",
    "### To-Dos From Last Class:\n",
    "\n",
    "* Submit Assignment #2: <a href=\"https://www.dropbox.com/request/wSQY5MGqmDtx9iLrsSBb\">Integrate & Fire</a> (before 9/27, 23:00 MDT)\n",
    "\n",
    "### Today:\n",
    "\n",
    "* What is data wrangling?\n",
    "* What is Pandas?\n",
    "* Data wrangling in Pandas (stealing heavily from this <a href=\"https://pandas.pydata.org/Pandas_Cheat_Sheet.pdf\">Cheatsheet</a>)\n",
    "    1. Creating a data frame\n",
    "    2. Reshaping\n",
    "    3. Subsetting\n",
    "    4. Adding columns\n",
    "    5. Combining data frames\n",
    "\n",
    "### Homework\n",
    "\n",
    "* Download data for next class' wrangling session from <a href=\"https://github.com/hogeveen-lab/DSPN_Fall2022_git\">Github</a>\n",
    "\n"
   ]
  },
  {
   "cell_type": "markdown",
   "metadata": {},
   "source": [
    "# What is data wrangling?\n",
    "\n",
    "<img src=\"img/data_wrangling_schematic.png\" width=\"600\">\n",
    "\n",
    "<img src=\"img/lotr.gif\">"
   ]
  },
  {
   "cell_type": "markdown",
   "metadata": {},
   "source": [
    "# What is Pandas?\n",
    "\n",
    "* A data wrangling _package_ for Python\n",
    "    * Takes a lot of what is good about R and brings it into a Python general-purpose programming env\n",
    "\n",
    "<img src=\"img/pandas.jpeg\" width=\"650\">\n",
    "\n",
    "## What does this mean?\n",
    "\n",
    "* Tidy data\n",
    "    * General organizational structure used to hold and manipulate data objects used in R and Pandas\n",
    "    \n",
    "<img src=\"img/tidy_data.png\" width=\"650\">\n",
    "\n",
    "* This enables you to perform __vectorized operations__ on your data\n",
    "    * Pandas (and tidyverse/dplyr in R) preserve your observations while you run those operations\n",
    "    \n",
    "<img src=\"img/tidy_data_vectorized_operations.png\" width=\"450\">"
   ]
  },
  {
   "cell_type": "markdown",
   "metadata": {},
   "source": [
    "# Data Wrangling in Pandas\n",
    "\n",
    "## 1. Creating DataFrames"
   ]
  },
  {
   "cell_type": "code",
   "execution_count": 2,
   "metadata": {},
   "outputs": [
    {
     "name": "stdout",
     "output_type": "stream",
     "text": [
      "      var1  var2  var3\n",
      "obs1     4     7    10\n",
      "obs2     5     8    11\n",
      "obs3     6     9    12\n",
      "      var1  var2  var3\n",
      "obs1     4     7    10\n",
      "obs2     5     8    11\n",
      "obs3     6     9    12\n"
     ]
    }
   ],
   "source": [
    "import pandas as pd\n",
    "\n",
    "# creating a data frame from scratch (assign values by column)\n",
    "df = pd.DataFrame({'var1': [4,5,6],\n",
    "                  'var2': [7,8,9],\n",
    "                  'var3' : [10,11,12]},\n",
    "                 index = ['obs1','obs2','obs3'])\n",
    "print(df)\n",
    "# creating a data frame from scratch (assign values by row)\n",
    "df_byrow = pd.DataFrame([[4,7,10],\n",
    "                        [5,8,11],\n",
    "                        [6,9,12]],\n",
    "                       index = ['obs1','obs2','obs3'],\n",
    "                       columns=['var1','var2','var3'])\n",
    "print(df_byrow)\n",
    "\n",
    "# # most often: RREADING in a data frame\n",
    "# filepath='~/Desktop/filtdf.csv'\n",
    "# df_real = pd.read_csv(filepath)\n",
    "# print(df_real.head())"
   ]
  },
  {
   "cell_type": "markdown",
   "metadata": {},
   "source": [
    "## 2. Reshaping data\n",
    "\n",
    "### Melt (i.e. go from wide to long)\n",
    "\n",
    "<img src=\"img/melt.png\" width=\"400\">"
   ]
  },
  {
   "cell_type": "code",
   "execution_count": 3,
   "metadata": {},
   "outputs": [
    {
     "name": "stdout",
     "output_type": "stream",
     "text": [
      "      var1  var2  var3\n",
      "obs1     4     7    10\n",
      "obs2     5     8    11\n",
      "obs3     6     9    12\n",
      "  Variables  Observations\n",
      "0      var1             4\n",
      "1      var1             5\n",
      "2      var1             6\n",
      "3      var2             7\n",
      "4      var2             8\n",
      "5      var2             9\n",
      "6      var3            10\n",
      "7      var3            11\n",
      "8      var3            12\n",
      "  pid  grp  var1  var2  var3\n",
      "0  P1    1     4     7    10\n",
      "1  P2    2     5     8    11\n",
      "2  P3    1     6     9    12\n",
      "  pid  grp variable  value\n",
      "0  P1    1     var1      4\n",
      "1  P2    2     var1      5\n",
      "2  P3    1     var1      6\n",
      "3  P1    1     var2      7\n",
      "4  P2    2     var2      8\n",
      "5  P3    1     var2      9\n",
      "6  P1    1     var3     10\n",
      "7  P2    2     var3     11\n",
      "8  P3    1     var3     12\n"
     ]
    }
   ],
   "source": [
    "print(df)\n",
    "df_long = pd.melt(df,var_name='Variables',value_name = 'Observations')\n",
    "print(df_long)\n",
    "\n",
    "# what do we do if some variables we DON't want to lengthen?\n",
    "df_with_idvars = pd.DataFrame({'pid': ['P1','P2','P3'],\n",
    "                               'grp': [1,2,1],\n",
    "                               'var1': [4,5,6],\n",
    "                               'var2': [7,8,9],\n",
    "                               'var3' : [10,11,12]})\n",
    "print(df_with_idvars)\n",
    "print(pd.melt(df_with_idvars,id_vars=['pid','grp']))"
   ]
  },
  {
   "cell_type": "markdown",
   "metadata": {},
   "source": [
    "### Pivot (i.e. go from long to wide)\n",
    "\n",
    "<img src=\"img/pivot.png\" width=\"600\">"
   ]
  },
  {
   "cell_type": "code",
   "execution_count": 4,
   "metadata": {},
   "outputs": [
    {
     "name": "stdout",
     "output_type": "stream",
     "text": [
      "  pid  grp variable  value\n",
      "0  P1    1     var1      4\n",
      "1  P2    2     var1      5\n",
      "2  P3    1     var1      6\n",
      "3  P1    1     var2      7\n",
      "4  P2    2     var2      8\n",
      "5  P3    1     var2      9\n",
      "6  P1    1     var3     10\n",
      "7  P2    2     var3     11\n",
      "8  P3    1     var3     12\n",
      "variable  var1  var2  var3\n",
      "pid grp                   \n",
      "P1  1        4     7    10\n",
      "P2  2        5     8    11\n",
      "P3  1        6     9    12\n"
     ]
    }
   ],
   "source": [
    "df_long = pd.melt(df_with_idvars,id_vars=['pid','grp'])\n",
    "print(df_long)\n",
    "\n",
    "df_wide = df_long.pivot(index=['pid','grp'], columns='variable',values = 'value')\n",
    "# df_wide = pd.pivot(df_long,index=['pid','grp'], columns='variable',values = 'value') # same thing!\n",
    "print(df_wide)"
   ]
  },
  {
   "cell_type": "markdown",
   "metadata": {},
   "source": [
    "## 3. Subsetting Data\n",
    "\n",
    "### Filter (i.e. subset rows)\n",
    "\n",
    "<img src=\"img/filter.png\" width=\"600\">"
   ]
  },
  {
   "cell_type": "code",
   "execution_count": 5,
   "metadata": {},
   "outputs": [
    {
     "name": "stdout",
     "output_type": "stream",
     "text": [
      "  pid  grp variable  value\n",
      "0  P1    1     var1      4\n",
      "1  P2    2     var1      5\n",
      "2  P3    1     var1      6\n",
      "3  P1    1     var2      7\n",
      "4  P2    2     var2      8\n",
      "5  P3    1     var2      9\n",
      "6  P1    1     var3     10\n",
      "7  P2    2     var3     11\n",
      "8  P3    1     var3     12\n",
      "  pid  grp variable  value\n",
      "3  P1    1     var2      7\n",
      "4  P2    2     var2      8\n",
      "5  P3    1     var2      9\n",
      "  pid  grp variable  value\n",
      "4  P2    2     var2      8\n",
      "5  P3    1     var2      9\n"
     ]
    }
   ],
   "source": [
    "print(df_long)\n",
    "\n",
    "df_var2 = df_long[df_long.variable == 'var2']\n",
    "print(df_var2)\n",
    "\n",
    "df_var2_great7 = df_long[(df_long.variable=='var2') & (df_long.value>7)]\n",
    "print(df_var2_great7)"
   ]
  },
  {
   "cell_type": "markdown",
   "metadata": {},
   "source": [
    "### Select (i.e. subset columns)\n",
    "\n",
    "<img src=\"img/select.png\" width=\"600\">"
   ]
  },
  {
   "cell_type": "code",
   "execution_count": 13,
   "metadata": {},
   "outputs": [
    {
     "name": "stdout",
     "output_type": "stream",
     "text": [
      "  pid  grp variable  value\n",
      "0  P1    1     var1      4\n",
      "1  P2    2     var1      5\n",
      "2  P3    1     var1      6\n",
      "3  P1    1     var2      7\n",
      "4  P2    2     var2      8\n",
      "5  P3    1     var2      9\n",
      "6  P1    1     var3     10\n",
      "7  P2    2     var3     11\n",
      "8  P3    1     var3     12\n",
      "  pid  value\n",
      "0  P1      4\n",
      "1  P2      5\n",
      "2  P3      6\n",
      "3  P1      7\n",
      "4  P2      8\n",
      "5  P3      9\n",
      "6  P1     10\n",
      "7  P2     11\n",
      "8  P3     12\n",
      "  variable  value\n",
      "0     var1      4\n",
      "1     var1      5\n",
      "2     var1      6\n",
      "3     var2      7\n",
      "4     var2      8\n",
      "5     var2      9\n",
      "6     var3     10\n",
      "7     var3     11\n",
      "8     var3     12\n",
      "  variable  value\n",
      "0     var1      4\n",
      "1     var1      5\n",
      "2     var1      6\n",
      "3     var2      7\n",
      "4     var2      8\n",
      "5     var2      9\n",
      "6     var3     10\n",
      "7     var3     11\n",
      "8     var3     12\n"
     ]
    }
   ],
   "source": [
    "print(df_long)\n",
    "\n",
    "df_pid_value = df_long[['pid','value']]\n",
    "print(df_pid_value)\n",
    "\n",
    "\n",
    "df_variable_value = df_long.loc[:,'variable':'value']\n",
    "print(df_variable_value)\n",
    "\n",
    "df_variable_value = df_long.iloc[:,2:4]\n",
    "print(df_variable_value)"
   ]
  },
  {
   "cell_type": "markdown",
   "metadata": {},
   "source": [
    "## 4. Making New Columns"
   ]
  },
  {
   "cell_type": "code",
   "execution_count": 14,
   "metadata": {},
   "outputs": [
    {
     "name": "stdout",
     "output_type": "stream",
     "text": [
      "variable  var1  var2  var3\n",
      "pid grp                   \n",
      "P1  1        4     7    10\n",
      "P2  2        5     8    11\n",
      "P3  1        6     9    12\n",
      "variable  var1  var2  var3  diff\n",
      "pid grp                         \n",
      "P1  1        4     7    10     3\n",
      "P2  2        5     8    11     3\n",
      "P3  1        6     9    12     3\n"
     ]
    }
   ],
   "source": [
    "print(df_wide)\n",
    "\n",
    "df_wide['diff'] = df_wide['var3'] - df_wide['var2']\n",
    "# df_wide['diff'] = df_wide.var3 - df_wide.var2 # same thing!\n",
    "print(df_wide)"
   ]
  },
  {
   "cell_type": "markdown",
   "metadata": {},
   "source": [
    "## 5. Combining Data Sets\n",
    "\n",
    "<img src=\"img/combining_data.png\" width=\"600\">"
   ]
  },
  {
   "cell_type": "code",
   "execution_count": 50,
   "metadata": {},
   "outputs": [
    {
     "name": "stdout",
     "output_type": "stream",
     "text": [
      "  pid  var1\n",
      "0  P1    47\n",
      "1  P2    49\n",
      "2  P3    63\n",
      "  pid  var2\n",
      "0  P1    36\n",
      "1  P2    31\n",
      "2  P4    55\n",
      "  pid  var1  var2\n",
      "0  P1    47  36.0\n",
      "1  P2    49  31.0\n",
      "2  P3    63   NaN\n",
      "  pid  var1  var2\n",
      "0  P1  47.0    36\n",
      "1  P2  49.0    31\n",
      "2  P4   NaN    55\n",
      "  pid  var1  var2\n",
      "0  P1    47    36\n",
      "1  P2    49    31\n",
      "  pid  var1  var2\n",
      "0  P1  47.0  36.0\n",
      "1  P2  49.0  31.0\n",
      "2  P3  63.0   NaN\n",
      "3  P4   NaN  55.0\n"
     ]
    }
   ],
   "source": [
    "import numpy as np\n",
    "\n",
    "df1 = pd.DataFrame({'pid' : ['P1','P2','P3'],\n",
    "                   'var1' : [np.random.randint(25,75),np.random.randint(25,75),np.random.randint(25,75)]})\n",
    "print(df1)\n",
    "\n",
    "df2 = pd.DataFrame({'pid' : ['P1','P2','P4'],\n",
    "                   'var2' : [np.random.randint(25,75),np.random.randint(25,75),np.random.randint(25,75)]})\n",
    "print(df2)\n",
    "\n",
    "### Standard approach #1 -- join matching rows from df2 to df1\n",
    "print(pd.merge(df1,df2,how='left',on='pid'))\n",
    "\n",
    "### Standard approach #2 -- join matching rows from df1 to df2\n",
    "print(pd.merge(df1,df2,how='right',on='pid'))\n",
    "\n",
    "### Standard approach #3 -- retain rows present in BOTH dfs\n",
    "print(pd.merge(df1,df2,how='inner',on='pid'))\n",
    "\n",
    "\n",
    "### Standard approach #4 -- retain rows present in ANY dfs\n",
    "print(pd.merge(df1,df2,how='outer',on='pid'))"
   ]
  },
  {
   "cell_type": "code",
   "execution_count": null,
   "metadata": {},
   "outputs": [],
   "source": []
  }
 ],
 "metadata": {
  "kernelspec": {
   "display_name": "Python 3",
   "language": "python",
   "name": "python3"
  },
  "language_info": {
   "codemirror_mode": {
    "name": "ipython",
    "version": 3
   },
   "file_extension": ".py",
   "mimetype": "text/x-python",
   "name": "python",
   "nbconvert_exporter": "python",
   "pygments_lexer": "ipython3",
   "version": "3.8.8"
  }
 },
 "nbformat": 4,
 "nbformat_minor": 4
}
