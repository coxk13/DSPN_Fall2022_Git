{
 "cells": [
  {
   "cell_type": "markdown",
   "id": "d6839fb0-73b8-43f2-a56d-a81ee9ec6bcb",
   "metadata": {},
   "source": [
    "# Data Science in Psychology & Neuroscience (DSPN): \n",
    "## Lecture 2. Introduction, continued\n",
    "\n",
    "### Date: August 25, 2022\n",
    "\n",
    "### To-Dos From Last Class:\n",
    "\n",
    "* Anaconda Navigator installation\n",
    "* Github setup\n",
    "    * Basic: <a href=\"https://github.com/hogeveen-lab/DSPN_Fall2022_git\">DSPN Fall 2022 Github</a>\n",
    "        * Download Zip, extract, replace / update existing folder on your machine\n",
    "    * Advanced: <a href=\"https://docs.github.com/en/desktop/contributing-and-collaborating-using-github-desktop/keeping-your-local-repository-in-sync-with-github/syncing-your-branch\">Syncing your branch</a>\n",
    "    * If you hate both options—let me know and I can share the Dropbox folder with you instead!!\n",
    "    \n",
    "   ### Today:\n",
    "\n",
    "* Coding style and working in Jupyter\n",
    "* Create Jupyter Notebook and start programming\n",
    "* Discuss final assignment\n",
    "\n",
    "### Homework:\n",
    "\n",
    "* Enjoy life!"
   ]
  },
  {
   "cell_type": "markdown",
   "id": "9303dcd2-82e0-49a8-b2ae-8afbb44e740c",
   "metadata": {},
   "source": [
    "# Note on pacing:\n",
    "\n",
    "| Hamilton would be a bad Data Scientist | Burr would be a good Data Scientist |\n",
    "| :---: | :---: |\n",
    "| <img src=\"img/hamilton/exhibits_no_restraint.gif\" width=\"367\"> | <img src=\"img/hamilton/wait_for_it.gif\" width=\"220\"> |"
   ]
  },
  {
   "cell_type": "markdown",
   "id": "58416065-f7c2-44fd-ae63-bc818a93f863",
   "metadata": {},
   "source": [
    "# Coding Style\n",
    "\n",
    "## What is it?\n",
    "* How YOUR code looks\n",
    "    * Analogous to formatting preferences in Word docs\n",
    "    * Differs person-to-person\n",
    "* Things to consider\n",
    "    * Comments\n",
    "        * Be succinct, but too much often better than not enough\n",
    "    * Indentation\n",
    "        * Tabs or spaces? If spaces, how many?\n",
    "    * Code organization\n",
    "        * Is there enough white space? Does the sequence make sense?\n",
    "    * Naming variables and functions\n",
    "        * camelCase vs. under_scores? \n",
    "        * Common logic for id'ing variables, data frames, plots, and models\n",
    "    * Consistency is key\n",
    "    \n",
    "    \n",
    "* Overarching principle: Code should be written to minimize the time it would take for someone else to understand it.\n",
    "\n",
    "<img src=\"img/readable_code.png\">"
   ]
  },
  {
   "cell_type": "markdown",
   "id": "c01a3022-ea71-41b0-ada0-394eec20a91d",
   "metadata": {},
   "source": [
    "## Cells\n",
    "\n",
    "__Sections of code__\n",
    "* Analogous to paragraphs or paper sections\n",
    "* Used in MATLAB <%%>, Python <#%%>, and RMarkDown <```>\n",
    "\n",
    "## Jupyter Cells\n",
    "\n",
    "* Markdown (what this is)\n",
    "    * A _way_ to __specify__ all ___formatting___ within the text itself\n",
    "* Code (cell where you run actual Python code)\n",
    "\n",
    "## Markdown Formatting Tips\n",
    "\n",
    "## Header levels...\n",
    "### ...are...\n",
    "#### ...specified...\n",
    "##### ...using...\n",
    "###### ...pound signs.\n",
    "\n",
    "* Can do bulleted lists using asterisks:\n",
    "    * tabbing to indent subsequent levels\n",
    "        * as many times as you need\n",
    "* back to level one\n",
    "\n",
    "1. Can also do numbered lists \n",
    "2. Number, period, space then your entry\n",
    "    1. Designate subpoints by tabbing + restarting enumeration\n",
    "3. Continue original list\n",
    "\n",
    "Here is a <a href=\"https://medium.com/ibm-data-science-experience/markdown-for-jupyter-notebooks-cheatsheet-386c05aeebed\">cheatsheet</a> with a bunch of other Markdown formatting stuff.\n",
    "\n",
    "## Web browser\n",
    "* Jupyter coding happens in a web browser\n",
    "    * But, it is not on the web\n",
    "* Exporting and sharing jupyter notebooks\n",
    "    * Export to HTML or PDF if you have LaTeX installed\n",
    "    * Push to Github and work on shared code base across lab\n",
    "    \n",
    "    ## Writing Python code in Jupyter\n",
    "\n",
    "* Python is an '__object-oriented__' programming language\n",
    "    * Nearly everything you create, update, and output in Python is going to be some kind of __object__\n",
    "* Python objects can be __variables__"
   ]
  },
  {
   "cell_type": "code",
   "execution_count": 1,
   "id": "13b44df9-fd39-46f1-8823-6a7ebcd34562",
   "metadata": {},
   "outputs": [
    {
     "name": "stdout",
     "output_type": "stream",
     "text": [
      "your first variable equals: 9\n"
     ]
    }
   ],
   "source": [
    "variable = 9\n",
    "print('your first variable equals:',variable)"
   ]
  },
  {
   "cell_type": "markdown",
   "id": "913a2b0c-1c1c-4b4f-b880-9ce83a831f17",
   "metadata": {},
   "source": [
    "* Variables are most often __integers__, __floats__, or __strings__"
   ]
  },
  {
   "cell_type": "code",
   "execution_count": 2,
   "id": "c7773c06-43ad-40c5-8df6-4ecd1a35e5ac",
   "metadata": {},
   "outputs": [
    {
     "name": "stdout",
     "output_type": "stream",
     "text": [
      "pi is equal to: 3.141592653589793 which is approximately 3\n"
     ]
    }
   ],
   "source": [
    "floating_point_number = 3.141592653589793238\n",
    "integer = 3\n",
    "string = 'pi'\n",
    "print(string,'is equal to:',floating_point_number,'which is approximately', integer)"
   ]
  },
  {
   "cell_type": "markdown",
   "id": "c1189837-d806-493d-bcf9-34838f9d3007",
   "metadata": {},
   "source": [
    "* Multiple variables can be assigned at once in Python"
   ]
  },
  {
   "cell_type": "code",
   "execution_count": 3,
   "id": "eba833d7-e9a7-4702-a49b-41d9695f8cea",
   "metadata": {},
   "outputs": [
    {
     "name": "stdout",
     "output_type": "stream",
     "text": [
      "3.141592653589793\n",
      "3\n",
      "pi\n"
     ]
    }
   ],
   "source": [
    "multi, variable, line = floating_point_number, integer, string\n",
    "print(multi)\n",
    "print(variable)\n",
    "print(line)"
   ]
  },
  {
   "cell_type": "markdown",
   "id": "d1485621-65d6-4615-8226-bb9f5cf70a69",
   "metadata": {},
   "source": [
    "* __Mathematical operators__ can be applied to numerical variables\n",
    "    * Order of operations follows __B() E** D/ M* A+ S-__"
   ]
  },
  {
   "cell_type": "code",
   "execution_count": 6,
   "id": "3fe43008-4e2d-4452-8fa4-f4298753d33a",
   "metadata": {},
   "outputs": [
    {
     "name": "stdout",
     "output_type": "stream",
     "text": [
      "your first mathematical solution is: 25\n"
     ]
    }
   ],
   "source": [
    "variable_2 = 18\n",
    "math_answer = (variable_2 - variable)**2 / 9\n",
    "print('your first mathematical solution is:', int(math_answer))"
   ]
  },
  {
   "cell_type": "markdown",
   "id": "5b157e8a-b36f-445c-86ee-be6047711ea5",
   "metadata": {},
   "source": [
    "* There are some cool division tricks...\n",
    "    * if you want to round to the nearest integer do '//'\n",
    "    * if you want the remainder after rounding, do '%'"
   ]
  },
  {
   "cell_type": "code",
   "execution_count": 9,
   "id": "b75ddf52-ea91-4bde-aaa1-3edf438ec674",
   "metadata": {},
   "outputs": [
    {
     "name": "stdout",
     "output_type": "stream",
     "text": [
      "the answer in integer form is: 84 and the remainder is: 15\n"
     ]
    }
   ],
   "source": [
    "math_answer_2 = (variable_2 - variable)**3 // 40\n",
    "remainder = (variable_2 - variable)**3 % 40\n",
    "print('the answer in integer form is:',math_answer_2,'and the remainder is:',remainder)"
   ]
  },
  {
   "cell_type": "markdown",
   "id": "b3d170b3-0019-4049-9012-8bdffba2d577",
   "metadata": {},
   "source": [
    "* Python objects might also be __collections__ (e.g. data frames or lists)"
   ]
  },
  {
   "cell_type": "code",
   "execution_count": 10,
   "id": "2a2d3d91-6ece-4d78-b2c8-793af23e2619",
   "metadata": {},
   "outputs": [
    {
     "name": "stdout",
     "output_type": "stream",
     "text": [
      "here is your first list: [1, 2, 3, 4, 5, 6]\n"
     ]
    }
   ],
   "source": [
    "list_1 = [1,2,3,4,5,6]\n",
    "print('here is your first list:',list_1)"
   ]
  },
  {
   "cell_type": "markdown",
   "id": "5064a556-3f7a-4764-b751-c28be1b4e923",
   "metadata": {},
   "source": [
    "* Python objects might also be __plots__\n",
    "    * Won't get into this yet..."
   ]
  },
  {
   "cell_type": "markdown",
   "id": "94de64a6-2730-423f-a061-bc81f5652f2f",
   "metadata": {},
   "source": [
    "### Packages, sub-packages, and modules\n",
    "\n",
    "* A ton of __packages__ have been developed\n",
    "    * Some of them general purpose (e.g. Numpy, Pandas)\n",
    "    * Some of them psych / neuro specific (e.g. psychopy, pygaze, MNE, Nipype, Brian, SPySort, etc etc etc)\n",
    "* Those packages contain \"sub-packages\" which do a set of related things\n",
    "* There are then individual \"modules\" or \"functions\" that do the stuff we want to do in Python\n",
    "\n",
    "<img src=\"img/package_module.png\" width=\"450\">\n",
    "\n",
    "### E.g. use numpy to generate random list of integers between 0 and 100"
   ]
  },
  {
   "cell_type": "code",
   "execution_count": 13,
   "id": "493b5e4d-ebdc-4596-b371-d4a668084580",
   "metadata": {},
   "outputs": [
    {
     "name": "stdout",
     "output_type": "stream",
     "text": [
      "Random integer list: [73 74 77 75 14 94 39 95 56 88]\n"
     ]
    }
   ],
   "source": [
    "# import numpy # numpy is a package\n",
    "# import numpy as np # abbreviate as np\n",
    "from numpy import random as nprd # random subpackage loaded as nprd directly\n",
    "\n",
    "# list_1 = numpy.random.randint(0,100,size=10) # randint is a specific module for generating random lists of integers\n",
    "# list_1 = np.random.randint(0,100,size=10)\n",
    "list_1 = nprd.randint(0,100,size=10)\n",
    "\n",
    "print(\"Random integer list: \" + str(list_1))"
   ]
  },
  {
   "cell_type": "markdown",
   "id": "7e20ee2f-5866-4b3d-ba5c-3d6e3d40a3f6",
   "metadata": {},
   "source": [
    "__If you forget how to use a subpackage or module...__\n",
    "\n",
    "<img src=\"img/m_baxter.png\" width=400>\n",
    "\n",
    "__Or...__"
   ]
  },
  {
   "cell_type": "code",
   "execution_count": null,
   "id": "fa91d33c-ff8e-4ec0-a63d-6c7c110f6db9",
   "metadata": {},
   "outputs": [],
   "source": []
  }
 ],
 "metadata": {
  "kernelspec": {
   "display_name": "Python 3",
   "language": "python",
   "name": "python3"
  },
  "language_info": {
   "codemirror_mode": {
    "name": "ipython",
    "version": 3
   },
   "file_extension": ".py",
   "mimetype": "text/x-python",
   "name": "python",
   "nbconvert_exporter": "python",
   "pygments_lexer": "ipython3",
   "version": "3.8.8"
  }
 },
 "nbformat": 4,
 "nbformat_minor": 5
}
