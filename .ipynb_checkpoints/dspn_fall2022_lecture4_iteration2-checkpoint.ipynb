{
 "cells": [
  {
   "cell_type": "markdown",
   "id": "fd584725-b018-44fe-9313-8755d2d0a6be",
   "metadata": {},
   "source": [
    "# Data Science in Psychology & Neuroscience (DSPN): \n",
    "\n",
    "## Lecture 4. Iteration Part 2\n",
    "\n",
    "### Date: September 1, 2022\n",
    "\n",
    "### To-Dos From Last Class:\n",
    "\n",
    "* Download Assignment #1 starter kit from <a href=\"https://github.com/hogeveen-lab/DSPN_Fall2022_git\">github</a>\n",
    "\n",
    "### Today:\n",
    "\n",
    "* More iteration exercises in Excel and Python\n",
    "\n",
    "### Homework:\n",
    "\n",
    "* Download Assignment #1 starter kit from <a href=\"https://github.com/hogeveen-lab/DSPN_Fall2022_git\">github</a>"
   ]
  },
  {
   "cell_type": "markdown",
   "id": "5bf932ba-c8bc-421e-afd0-ecc942f2825a",
   "metadata": {},
   "source": [
    "# Iteration\n",
    "\n",
    "## What is it?\n",
    "\n",
    "* Repetition of a behavior\n",
    "\n",
    "<img src='img/iteration.jpg' width=500>\n",
    "\n",
    "##  When is this useful?\n",
    "\n",
    "* Simple tasks that require repetition\n",
    "    * Examples in psychology & neuroscience?\n",
    "        * Repeat across subjects\n",
    "        * Repeat across different sessions\n",
    "        * Repeat across different brain regions (fMRI)\n",
    "        * Repeat across different electrodes (EEG)\n",
    "        * Repeat across epochs within a dataset"
   ]
  },
  {
   "cell_type": "markdown",
   "id": "626250d1-0157-4880-9aee-08cb5dd71831",
   "metadata": {},
   "source": [
    "# Exercise 1: Write a program to print integers in descending order in increments of 3 starting at _N_ using a WHILE loop."
   ]
  },
  {
   "cell_type": "code",
   "execution_count": 30,
   "id": "fec58dda-7aac-486f-b1b1-3ccc50f99cce",
   "metadata": {},
   "outputs": [
    {
     "name": "stdin",
     "output_type": "stream",
     "text": [
      " 66\n"
     ]
    },
    {
     "name": "stdout",
     "output_type": "stream",
     "text": [
      "the current answer for iteration: 0 is 66\n",
      "the current answer for iteration: 1 is 63\n",
      "the current answer for iteration: 2 is 60\n",
      "the current answer for iteration: 3 is 57\n",
      "the current answer for iteration: 4 is 54\n",
      "the current answer for iteration: 5 is 51\n",
      "the current answer for iteration: 6 is 48\n",
      "the current answer for iteration: 7 is 45\n",
      "the current answer for iteration: 8 is 42\n",
      "the current answer for iteration: 9 is 39\n",
      "the current answer for iteration: 10 is 36\n",
      "the current answer for iteration: 11 is 33\n",
      "the current answer for iteration: 12 is 30\n",
      "the current answer for iteration: 13 is 27\n",
      "the current answer for iteration: 14 is 24\n",
      "the current answer for iteration: 15 is 21\n",
      "the current answer for iteration: 16 is 18\n",
      "the current answer for iteration: 17 is 15\n",
      "the current answer for iteration: 18 is 12\n",
      "the current answer for iteration: 19 is 9\n",
      "the current answer for iteration: 20 is 6\n",
      "the current answer for iteration: 21 is 3\n",
      "the current answer for iteration: 22 is 0\n"
     ]
    }
   ],
   "source": [
    "# preamble: asking how many integers you want to loop through\n",
    "n=int(input())\n",
    "step = 3\n",
    "\n",
    "# core: part you won't need to modify\n",
    "iteration = 0\n",
    "while n >= 0:\n",
    "    print('the current answer for iteration:',iteration,'is',n)\n",
    "    iteration += 1\n",
    "    n -= step"
   ]
  },
  {
   "cell_type": "markdown",
   "id": "cf6b0676-5633-414d-bf94-a46a507fd8e3",
   "metadata": {},
   "source": [
    "# Exercise 2: Write a FOR loop so that every item in the list is printed."
   ]
  },
  {
   "cell_type": "code",
   "execution_count": 32,
   "id": "d613b5e1-409e-4b0d-8f7f-4b58ac13f8a9",
   "metadata": {},
   "outputs": [
    {
     "name": "stdout",
     "output_type": "stream",
     "text": [
      "the 0 position in the list is: frontal\n",
      "the 1 position in the list is: parietal\n",
      "the 2 position in the list is: occipital\n",
      "the 3 position in the list is: temporal\n",
      "the 4 position in the list is: brainstem\n",
      "the 5 position in the list is: cerebellum\n",
      "the 6 position in the list is: basal_ganglia\n"
     ]
    }
   ],
   "source": [
    "lst = ['frontal','parietal','occipital','temporal','brainstem','cerebellum','basal_ganglia']\n",
    "\n",
    "iteration = 0\n",
    "for i in lst:\n",
    "    print('the',iteration,'position in the list is:',i)\n",
    "    iteration += 1\n",
    "\n",
    "del(i)"
   ]
  },
  {
   "cell_type": "markdown",
   "id": "f3f95051-25b3-4a6f-a9d2-b3edb32bdef5",
   "metadata": {},
   "source": [
    "# Exercise 3: Write a FOR loop that iterates through a string and prints every letter."
   ]
  },
  {
   "cell_type": "code",
   "execution_count": 35,
   "id": "74496f25-c656-40f1-ae3e-413484e4e0ca",
   "metadata": {},
   "outputs": [
    {
     "name": "stdout",
     "output_type": "stream",
     "text": [
      "the 0 letter in the string is: h\n",
      "the 1 letter in the string is: o\n",
      "the 2 letter in the string is: g\n",
      "the 3 letter in the string is: e\n",
      "the 4 letter in the string is: v\n",
      "the 5 letter in the string is: e\n",
      "the 6 letter in the string is: e\n",
      "the 7 letter in the string is: n\n"
     ]
    }
   ],
   "source": [
    "string = 'hogeveen'\n",
    "\n",
    "iteration = 0\n",
    "for i in string:\n",
    "    print('the',iteration,'letter in the string is:',i)\n",
    "    iteration += 1\n",
    "\n",
    "del(i)"
   ]
  },
  {
   "cell_type": "markdown",
   "id": "30538ef9-e20b-462c-9d94-e129251a8d3b",
   "metadata": {},
   "source": [
    "# Exercise 4: Write a FOR loop which appends the square of each number to a new list."
   ]
  },
  {
   "cell_type": "code",
   "execution_count": 39,
   "id": "92157453-6fc5-4f5f-9098-cbad9081bc3a",
   "metadata": {},
   "outputs": [
    {
     "name": "stdout",
     "output_type": "stream",
     "text": [
      "the list of squared values is: [1, 9, 36, 81, 144, 225, 324]\n"
     ]
    }
   ],
   "source": [
    "lst1 = [1,3,6,9,12,15,18]\n",
    "lst2 = []\n",
    "\n",
    "for i in lst1:\n",
    "    lst2.append(i**2)\n",
    "\n",
    "print('the list of squared values is:',lst2)\n",
    "\n",
    "del(i)"
   ]
  },
  {
   "cell_type": "markdown",
   "id": "bf94026c-1ebc-4c64-bdf3-4817b3db4ce6",
   "metadata": {},
   "source": [
    "# Exercise 5: Write a FOR loop to add 'Dr' to each name and append to a new list."
   ]
  },
  {
   "cell_type": "code",
   "execution_count": 40,
   "id": "b4c25399-df8f-45be-a0c1-1a0c078a1b29",
   "metadata": {},
   "outputs": [
    {
     "name": "stdout",
     "output_type": "stream",
     "text": [
      "the list of Drs is: ['Dr. Phelps', 'Dr. Farah', 'Dr. Cai', 'Dr. Tye', 'Dr. Josselyn', 'Dr. Witkiewitz', 'Dr. Olson']\n"
     ]
    }
   ],
   "source": [
    "lst1 = ['Phelps','Farah','Cai','Tye','Josselyn','Witkiewitz','Olson']\n",
    "lst2 = []\n",
    "\n",
    "for i in lst1:\n",
    "    dr_i = 'Dr. '+i\n",
    "    lst2.append(dr_i)\n",
    "    \n",
    "print('the list of Drs is:',lst2)\n",
    "\n",
    "del(i)"
   ]
  },
  {
   "cell_type": "markdown",
   "id": "a115f4d1-6053-40cb-a755-12ead2ef756e",
   "metadata": {},
   "source": [
    "# Exercise 6: Find the sum of numbers in a list using FOR loop"
   ]
  },
  {
   "cell_type": "code",
   "execution_count": 51,
   "id": "37330b61-04a9-4594-96dd-a738b9835912",
   "metadata": {},
   "outputs": [
    {
     "name": "stdout",
     "output_type": "stream",
     "text": [
      "[5 3 4 7 8]\n",
      "the sum of 0 and 5 is:\n",
      "5\n",
      "the sum of 5 and 3 is:\n",
      "8\n",
      "the sum of 8 and 4 is:\n",
      "12\n",
      "the sum of 12 and 7 is:\n",
      "19\n",
      "the sum of 19 and 8 is:\n",
      "27\n"
     ]
    }
   ],
   "source": [
    "from numpy import random as npr\n",
    "lst1 = npr.randint(1,10,5)\n",
    "print(lst1)\n",
    "answer = 0\n",
    "\n",
    "for i in range(0,len(lst1)):\n",
    "    print('the sum of',answer,'and',lst1[i],'is:')\n",
    "    answer += lst1[i]\n",
    "    print(answer)"
   ]
  },
  {
   "cell_type": "code",
   "execution_count": null,
   "id": "606390cb-23ca-47cf-ae06-afd1028d224c",
   "metadata": {},
   "outputs": [],
   "source": []
  }
 ],
 "metadata": {
  "kernelspec": {
   "display_name": "Python 3",
   "language": "python",
   "name": "python3"
  },
  "language_info": {
   "codemirror_mode": {
    "name": "ipython",
    "version": 3
   },
   "file_extension": ".py",
   "mimetype": "text/x-python",
   "name": "python",
   "nbconvert_exporter": "python",
   "pygments_lexer": "ipython3",
   "version": "3.8.8"
  }
 },
 "nbformat": 4,
 "nbformat_minor": 5
}
