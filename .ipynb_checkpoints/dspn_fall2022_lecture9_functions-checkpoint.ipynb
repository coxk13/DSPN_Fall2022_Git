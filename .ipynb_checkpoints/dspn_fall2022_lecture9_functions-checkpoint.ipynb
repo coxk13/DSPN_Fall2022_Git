{
 "cells": [
  {
   "cell_type": "markdown",
   "metadata": {},
   "source": [
    "# Data Science in Psychology & Neuroscience (DSPN): \n",
    "\n",
    "## Lecture 7. Functions\n",
    "\n",
    "### Date: September 22, 2022\n",
    "\n",
    "### To-Dos From Last Class:\n",
    "\n",
    "* Submit Assignment #2: <a href=\"https://www.dropbox.com/request/wSQY5MGqmDtx9iLrsSBb\">Integrate & Fire</a> (before 9/27, 23:00 MDT)\n",
    "\n",
    "### Today:\n",
    "\n",
    "* Code less\n",
    "* What are functions?\n",
    "* Coding functions in Python\n",
    "    * def\n",
    "    * Algorithms\n",
    "    * Namespace\n",
    "    * _If time allows_: lambda Functions\n",
    "\n",
    "### Homework\n",
    "\n",
    "* Submit Assignment #2: <a href=\"https://www.dropbox.com/request/wSQY5MGqmDtx9iLrsSBb\">Integrate & Fire</a> (before 9/27, 23:00 MDT)\n"
   ]
  },
  {
   "cell_type": "markdown",
   "metadata": {},
   "source": [
    "# General Principle: Write Less Code\n",
    "\n",
    "<img src=\"img/simplify.gif\">\n",
    "\n",
    "## Working Principles\n",
    "\n",
    "* Before writing anything:\n",
    "    * What is my goal?\n",
    "* For each feature you start to build into your code:\n",
    "    * Is this necessary?\n",
    "* The most readable code is no code at all."
   ]
  },
  {
   "cell_type": "markdown",
   "metadata": {},
   "source": [
    "## What if We Need to Repeat Some Chunk of Code Many, Many Times?\n",
    "\n",
    "<img src=\"img/copy_paste.gif\">\n",
    "\n",
    "* e.g. Plots, scoring questionnaires, transform data across vars / people, computing stats, etc.\n",
    "* Ways to prevent this turning into 1000s of lines of code:\n",
    "    * Iteration\n",
    "    * Functions\n",
    "    * Note: Not mutually exclusive"
   ]
  },
  {
   "cell_type": "markdown",
   "metadata": {},
   "source": [
    "# What are functions?\n",
    "\n",
    "## General Idea\n",
    "\n",
    "* A reusable chunk of code that performs common operations, and returns a result.\n",
    "\n",
    "## Modular Programming:\n",
    "* An approach that focuses on building a codebase from independent modules (i.e., pieces).\n",
    "* Functions support modular programming.\n",
    "    * Each function operates independently.\n",
    "    * Functions then combined together in a workflow.\n",
    "    * Allow you to build up a complex, but still (reasonably) well-organized codebase.\n",
    "\n",
    "<img src=\"img/work_schematic.png\" width=\"650\">"
   ]
  },
  {
   "cell_type": "markdown",
   "metadata": {},
   "source": [
    "# Coding Functions in Python\n",
    "\n",
    "## Using __def__\n",
    "\n",
    "* Use __def__ and __:__ to create a user-defined function\n",
    "    * Same indenting rules as iterations and conditionals\n",
    "* __def__ doesn't actually _execute_ the function, it just creates it\n",
    "    * Instead, subsequent to defining the function we execute it placing any associated inputs in parentheses -- __()__\n",
    "    * Logic behind our code no longer needs to proceed in serial order.\n",
    "\n",
    "### Example 1: Let's code a function that adds 5 to an input value"
   ]
  },
  {
   "cell_type": "code",
   "execution_count": 9,
   "metadata": {},
   "outputs": [
    {
     "name": "stdout",
     "output_type": "stream",
     "text": [
      "9\n",
      "4\n"
     ]
    }
   ],
   "source": [
    "x = 4\n",
    "\n",
    "def addfive(x):\n",
    "    answer = x+5\n",
    "    print(answer)\n",
    "\n",
    "addfive(x)\n",
    "print(x)"
   ]
  },
  {
   "cell_type": "code",
   "execution_count": null,
   "metadata": {},
   "outputs": [],
   "source": []
  },
  {
   "cell_type": "markdown",
   "metadata": {},
   "source": [
    "#### Now, say we want to hold onto the output for later"
   ]
  },
  {
   "cell_type": "code",
   "execution_count": 22,
   "metadata": {},
   "outputs": [
    {
     "name": "stdout",
     "output_type": "stream",
     "text": [
      "9\n",
      "9\n"
     ]
    }
   ],
   "source": [
    "x = 4\n",
    "\n",
    "def addfive(x):\n",
    "    answer = x+5\n",
    "    print(answer)\n",
    "    return answer\n",
    "\n",
    "answer = addfive(x)\n",
    "print(answer)"
   ]
  },
  {
   "cell_type": "markdown",
   "metadata": {},
   "source": [
    "#### Why does it say \"None\"? How can we modify it to store the output?"
   ]
  },
  {
   "cell_type": "code",
   "execution_count": 23,
   "metadata": {},
   "outputs": [],
   "source": [
    "# Defining the function\n",
    "def add_five(user_input):\n",
    "    # do some operation\n",
    "    print(user_input+5)"
   ]
  },
  {
   "cell_type": "code",
   "execution_count": 25,
   "metadata": {},
   "outputs": [
    {
     "name": "stdout",
     "output_type": "stream",
     "text": [
      "9\n",
      "None\n"
     ]
    }
   ],
   "source": [
    "out_value = add_five(4)\n",
    "print(out_value)"
   ]
  },
  {
   "cell_type": "code",
   "execution_count": 26,
   "metadata": {},
   "outputs": [
    {
     "name": "stdout",
     "output_type": "stream",
     "text": [
      "9\n"
     ]
    }
   ],
   "source": [
    "def return_add_five(user_input):\n",
    "    x = user_input + 5\n",
    "    return x\n",
    "\n",
    "out_value = return_add_five(4)\n",
    "print(out_value)"
   ]
  },
  {
   "cell_type": "markdown",
   "metadata": {},
   "source": [
    "#### How could we modify the function to add two user-defined values (i.e., not limited to adding 5)?"
   ]
  },
  {
   "cell_type": "code",
   "execution_count": 36,
   "metadata": {},
   "outputs": [
    {
     "data": {
      "text/plain": [
       "13"
      ]
     },
     "execution_count": 36,
     "metadata": {},
     "output_type": "execute_result"
    }
   ],
   "source": [
    "def add_two_numbers(x,y):\n",
    "    answer = x + y\n",
    "    return answer\n",
    "\n",
    "add_two_numbers(4,9)"
   ]
  },
  {
   "cell_type": "code",
   "execution_count": 37,
   "metadata": {},
   "outputs": [],
   "source": [
    "answer_assigned = add_two_numbers(4,9)"
   ]
  },
  {
   "cell_type": "code",
   "execution_count": 38,
   "metadata": {},
   "outputs": [
    {
     "name": "stdout",
     "output_type": "stream",
     "text": [
      "13\n"
     ]
    }
   ],
   "source": [
    "print(answer_assigned)"
   ]
  },
  {
   "cell_type": "markdown",
   "metadata": {},
   "source": [
    "__Note: We're not limited to single operations in a function. We can add loops and conditionals within functions as well.__\n",
    "\n",
    "### Example 2: Write a function to determine if an input value is even or odd"
   ]
  },
  {
   "cell_type": "code",
   "execution_count": 41,
   "metadata": {},
   "outputs": [],
   "source": [
    "def even_odd(user_input):\n",
    "    if user_input % 2 == 0:\n",
    "        out = \"EVEN\"\n",
    "    else:\n",
    "        out = \"ODD\"\n",
    "    return out"
   ]
  },
  {
   "cell_type": "code",
   "execution_count": 42,
   "metadata": {},
   "outputs": [
    {
     "name": "stdout",
     "output_type": "stream",
     "text": [
      "ODD\n"
     ]
    }
   ],
   "source": [
    "even_odd_test = even_odd(7)\n",
    "print(even_odd_test)"
   ]
  },
  {
   "cell_type": "markdown",
   "metadata": {},
   "source": [
    "### Comprehension question: What will this code chunk return?"
   ]
  },
  {
   "cell_type": "code",
   "execution_count": 45,
   "metadata": {},
   "outputs": [
    {
     "name": "stdout",
     "output_type": "stream",
     "text": [
      "4.0\n"
     ]
    }
   ],
   "source": [
    "def multiplier(input1,input2):\n",
    "    final_ans = input1 * input2\n",
    "    return final_ans\n",
    "\n",
    "# computing something using the function\n",
    "ans_1 = multiplier(2,4)\n",
    "ans_2 = multiplier(1,2)\n",
    "print(ans_1 / ans_2)"
   ]
  },
  {
   "cell_type": "markdown",
   "metadata": {},
   "source": [
    "### Example 3: Write a Python function to return the maximum value of an input list\n",
    "* yes... python already has a builtin \"max\" function, let's pretend it doesn't!"
   ]
  },
  {
   "cell_type": "code",
   "execution_count": 46,
   "metadata": {},
   "outputs": [],
   "source": [
    "def find_max(user_input):\n",
    "    cur_max = 0\n",
    "    for i in user_input:\n",
    "        if i > cur_max:\n",
    "            cur_max = i\n",
    "    return cur_max"
   ]
  },
  {
   "cell_type": "code",
   "execution_count": 48,
   "metadata": {},
   "outputs": [
    {
     "name": "stdout",
     "output_type": "stream",
     "text": [
      "[17 14  6 30 10]\n"
     ]
    }
   ],
   "source": [
    "from numpy import random as npr\n",
    "lst = npr.randint(0,100,5)\n",
    "print(lst)"
   ]
  },
  {
   "cell_type": "code",
   "execution_count": 51,
   "metadata": {},
   "outputs": [
    {
     "name": "stdout",
     "output_type": "stream",
     "text": [
      "30\n"
     ]
    },
    {
     "data": {
      "text/plain": [
       "30"
      ]
     },
     "execution_count": 51,
     "metadata": {},
     "output_type": "execute_result"
    }
   ],
   "source": [
    "max_value = find_max(lst)\n",
    "print(max_value)\n",
    "\n",
    "max(lst)"
   ]
  },
  {
   "cell_type": "markdown",
   "metadata": {},
   "source": [
    "### What are the benefits of this \"modular\" organization approach?\n",
    "\n",
    "* Easier to collaborate on different sections of code for a project.\n",
    "* Reduces human error.\n",
    "* Flexibility.\n",
    "\n",
    "\n",
    "<img src=\"img/modular_couch.gif\" width=\"450\">"
   ]
  },
  {
   "cell_type": "markdown",
   "metadata": {},
   "source": [
    "## Namespace\n",
    "\n",
    "* Collection of currently defined symbolic names along with the object each name references\n",
    "* We can use __%whos__ to return the current namespace in our notebook"
   ]
  },
  {
   "cell_type": "code",
   "execution_count": 52,
   "metadata": {},
   "outputs": [
    {
     "name": "stdout",
     "output_type": "stream",
     "text": [
      "Variable          Type        Data/Info\n",
      "---------------------------------------\n",
      "actual_answer     int         13\n",
      "add_five          function    <function add_five at 0x7fa500e96c10>\n",
      "add_two_numbers   function    <function add_two_numbers at 0x7fa501065b80>\n",
      "addfive           function    <function addfive at 0x7fa501065040>\n",
      "ans_1             int         8\n",
      "ans_2             int         2\n",
      "answer            int         13\n",
      "answer_assigned   int         13\n",
      "even_odd          function    <function even_odd at 0x7fa501065820>\n",
      "even_odd_test     str         ODD\n",
      "find_max          function    <function find_max at 0x7fa501065430>\n",
      "lst               ndarray     5: 5 elems, type `int64`, 40 bytes\n",
      "max_value         int64       30\n",
      "multiplier        function    <function multiplier at 0x7fa501065940>\n",
      "npr               module      <module 'numpy.random' fr<...>umpy/random/__init__.py'>\n",
      "out_value         int         9\n",
      "return_add_five   function    <function return_add_five at 0x7fa5010653a0>\n",
      "x                 int         4\n"
     ]
    }
   ],
   "source": [
    "%whos"
   ]
  },
  {
   "cell_type": "code",
   "execution_count": 53,
   "metadata": {},
   "outputs": [
    {
     "name": "stdout",
     "output_type": "stream",
     "text": [
      "[17 14  6 30 10]\n"
     ]
    }
   ],
   "source": [
    "print(lst)"
   ]
  },
  {
   "cell_type": "markdown",
   "metadata": {},
   "source": [
    "### NOTE: Function namespace is independent from the global namespace\n",
    "\n",
    "* Functions only have access to objects we explicitly pass in\n",
    "* Local, unreturned names created within a function do not overwrite our global namespace"
   ]
  },
  {
   "cell_type": "code",
   "execution_count": 59,
   "metadata": {},
   "outputs": [],
   "source": [
    "def random_array():\n",
    "    lst = npr.randint(0,100,5)\n",
    "    return lst\n",
    "\n",
    "new_list = random_array()\n"
   ]
  },
  {
   "cell_type": "code",
   "execution_count": 60,
   "metadata": {},
   "outputs": [
    {
     "name": "stdout",
     "output_type": "stream",
     "text": [
      "notice that our global workspace list 0bject did not change: [17 14  6 30 10]\n",
      "now we have also created a new list object: [36 46 23 31 62]\n"
     ]
    }
   ],
   "source": [
    "print('notice that our global workspace list 0bject did not change:',lst)\n",
    "print('now we have also created a new list object:',new_list)"
   ]
  },
  {
   "cell_type": "code",
   "execution_count": 61,
   "metadata": {},
   "outputs": [
    {
     "name": "stdout",
     "output_type": "stream",
     "text": [
      "[36 46 23 31 62]\n"
     ]
    }
   ],
   "source": [
    "# Quick note: can use del(), %reset_selective, %reset to clear the namespace\n",
    "# del(lst)\n",
    "# %reset_selective lst\n",
    "# %reset"
   ]
  },
  {
   "cell_type": "markdown",
   "metadata": {},
   "source": [
    "## lambda Functions\n",
    "\n",
    "* Based on Alonzo Church's __lambda calculus__, a language based on pure abstraction.\n",
    "* In python, it is used to denote a small one-line function.\n",
    "* Basic syntax --> lambda arguments : expression\n",
    "\n",
    "### Example: Let's revisit our earlier \"return_add_five\" function..."
   ]
  },
  {
   "cell_type": "code",
   "execution_count": 62,
   "metadata": {},
   "outputs": [],
   "source": [
    "# Defining the function\n",
    "def return_add_five(user_input):\n",
    "    x = user_input+5\n",
    "    return x"
   ]
  },
  {
   "cell_type": "code",
   "execution_count": 63,
   "metadata": {},
   "outputs": [
    {
     "name": "stdout",
     "output_type": "stream",
     "text": [
      "10\n"
     ]
    }
   ],
   "source": [
    "ans = return_add_five(5)\n",
    "print(ans)"
   ]
  },
  {
   "cell_type": "code",
   "execution_count": 64,
   "metadata": {},
   "outputs": [
    {
     "name": "stdout",
     "output_type": "stream",
     "text": [
      "10\n"
     ]
    }
   ],
   "source": [
    "lambda_add_five = lambda user_input : user_input + 5\n",
    "print(lambda_add_five(5))"
   ]
  },
  {
   "cell_type": "markdown",
   "metadata": {},
   "source": [
    "### Example 2: Let's try mean-centering a list using a lambda function"
   ]
  },
  {
   "cell_type": "code",
   "execution_count": 78,
   "metadata": {},
   "outputs": [
    {
     "name": "stdout",
     "output_type": "stream",
     "text": [
      "[10 48 34 61 10 79 52 58 67 80 28 84 54 35 32 87 49 89 62  9]\n",
      "[-41.4  -3.4 -17.4   9.6 -41.4  27.6   0.6   6.6  15.6  28.6 -23.4  32.6\n",
      "   2.6 -16.4 -19.4  35.6  -2.4  37.6  10.6 -42.4]\n"
     ]
    }
   ],
   "source": [
    "import numpy as np\n",
    "newer_lst = npr.randint(0,100,20)\n",
    "print(newer_lst)\n",
    "centered_lst = (lambda x: x - np.mean(x))(newer_lst)\n",
    "print(centered_lst)"
   ]
  },
  {
   "cell_type": "code",
   "execution_count": 79,
   "metadata": {},
   "outputs": [
    {
     "data": {
      "image/png": "[encoded data removed]",
      "text/plain": [
       "<Figure size 432x288 with 1 Axes>"
      ]
     },
     "metadata": {
      "needs_background": "light"
     },
     "output_type": "display_data"
    }
   ],
   "source": [
    "import matplotlib.pyplot as plt\n",
    "\n",
    "# matplotlib histogram\n",
    "palette=['blue','red']\n",
    "names=['original','centered']\n",
    "plt.hist([newer_lst, centered_lst], bins = int(180/15),edgecolor = 'black',color = palette, label=names)\n",
    "# Plot formatting\n",
    "plt.legend()\n",
    "plt.xlabel('Values')\n",
    "plt.ylabel('Frequency')\n",
    "plt.title('Side-by-Side Histogram with Original and Centered Lists')\n",
    "plt.show()"
   ]
  },
  {
   "cell_type": "code",
   "execution_count": null,
   "metadata": {},
   "outputs": [],
   "source": []
  }
 ],
 "metadata": {
  "kernelspec": {
   "display_name": "Python 3",
   "language": "python",
   "name": "python3"
  },
  "language_info": {
   "codemirror_mode": {
    "name": "ipython",
    "version": 3
   },
   "file_extension": ".py",
   "mimetype": "text/x-python",
   "name": "python",
   "nbconvert_exporter": "python",
   "pygments_lexer": "ipython3",
   "version": "3.8.8"
  }
 },
 "nbformat": 4,
 "nbformat_minor": 4
}
